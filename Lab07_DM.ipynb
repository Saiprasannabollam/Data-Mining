{
  "nbformat": 4,
  "nbformat_minor": 0,
  "metadata": {
    "colab": {
      "provenance": [],
      "authorship_tag": "ABX9TyPJqkSS4Cdzdw9SLoX+QLLa",
      "include_colab_link": true
    },
    "kernelspec": {
      "name": "python3",
      "display_name": "Python 3"
    },
    "language_info": {
      "name": "python"
    }
  },
  "cells": [
    {
      "cell_type": "markdown",
      "metadata": {
        "id": "view-in-github",
        "colab_type": "text"
      },
      "source": [
        "<a href=\"https://colab.research.google.com/github/Saiprasannabollam/Data-Mining/blob/main/Lab07_DM.ipynb\" target=\"_parent\"><img src=\"https://colab.research.google.com/assets/colab-badge.svg\" alt=\"Open In Colab\"/></a>"
      ]
    },
    {
      "cell_type": "code",
      "execution_count": 1,
      "metadata": {
        "id": "oJMQ2-FGg6o-"
      },
      "outputs": [],
      "source": [
        "import pandas as pd\n",
        "data = {\n",
        "    \"Employee\": [\"John\", \"Sarah\", \"Mike\", \"Emma\", \"Tom\"],\n",
        "    \"Department\": [\"IT\", \"HR\", \"IT\", \"Finance\", \"HR\"],\n",
        "    \"Salary\": [60000, 50000, 75000, 65000, 48000],\n",
        "    \"Experience (Years)\": [5, 3, 7, 4, 2],\n",
        "    \"Performance Rating\": [4.5, 3.8, 4.9, 4.2, 3.5]\n",
        "}\n",
        "df = pd.DataFrame(data)"
      ]
    },
    {
      "cell_type": "code",
      "source": [
        "avg_salary = df.groupby(\"Department\")[\"Salary\"].mean()\n",
        "print(\"Average Salary per Department:\\n\", avg_salary)"
      ],
      "metadata": {
        "colab": {
          "base_uri": "https://localhost:8080/"
        },
        "id": "JZBLyKzrmIdA",
        "outputId": "78bf1eb8-3892-459f-fbd4-e54196506863"
      },
      "execution_count": 2,
      "outputs": [
        {
          "output_type": "stream",
          "name": "stdout",
          "text": [
            "Average Salary per Department:\n",
            " Department\n",
            "Finance    65000.0\n",
            "HR         49000.0\n",
            "IT         67500.0\n",
            "Name: Salary, dtype: float64\n"
          ]
        }
      ]
    },
    {
      "cell_type": "code",
      "source": [
        "high_performers = df[df[\"Performance Rating\"] > 4.0]\n",
        "print(\"\\nEmployees with Performance Rating above 4.0:\\n\", high_performers)"
      ],
      "metadata": {
        "colab": {
          "base_uri": "https://localhost:8080/"
        },
        "id": "ytmekYlupCFE",
        "outputId": "ab1939ea-4342-4e13-a5de-7d8de1a92a65"
      },
      "execution_count": 4,
      "outputs": [
        {
          "output_type": "stream",
          "name": "stdout",
          "text": [
            "\n",
            "Employees with Performance Rating above 4.0:\n",
            "   Employee Department  Salary  Experience (Years)  Performance Rating\n",
            "0     John         IT   60000                   5                 4.5\n",
            "2     Mike         IT   75000                   7                 4.9\n",
            "3     Emma    Finance   65000                   4                 4.2\n"
          ]
        }
      ]
    },
    {
      "cell_type": "code",
      "source": [
        "increment_condition = df[\"Performance Rating\"] > 4.0\n",
        "df[\"Increment\"] = df[\"Salary\"] * 0.10  # Default 10% increment\n",
        "df.loc[~increment_condition, \"Increment\"] = df[\"Salary\"] * 0.05  # 5% for others"
      ],
      "metadata": {
        "id": "E-tlihQJq7pG"
      },
      "execution_count": 5,
      "outputs": []
    },
    {
      "cell_type": "code",
      "source": [
        "# Calculating new salary after increment\n",
        "df[\"New Salary\"] = df[\"Salary\"] + df[\"Increment\"]"
      ],
      "metadata": {
        "id": "r_KG2JYAvXIx"
      },
      "execution_count": 6,
      "outputs": []
    },
    {
      "cell_type": "code",
      "source": [
        "# Sorting employees in descending order of new salary\n",
        "df_sorted = df.sort_values(by=\"New Salary\", ascending=False)\n",
        "print(\"\\nEmployees sorted by new salary:\\n\", df_sorted)"
      ],
      "metadata": {
        "colab": {
          "base_uri": "https://localhost:8080/"
        },
        "id": "LMSlMHqlvk8h",
        "outputId": "bf2784f7-b094-4f88-a0fa-67492a939f53"
      },
      "execution_count": 7,
      "outputs": [
        {
          "output_type": "stream",
          "name": "stdout",
          "text": [
            "\n",
            "Employees sorted by new salary:\n",
            "   Employee Department  Salary  Experience (Years)  Performance Rating  \\\n",
            "2     Mike         IT   75000                   7                 4.9   \n",
            "3     Emma    Finance   65000                   4                 4.2   \n",
            "0     John         IT   60000                   5                 4.5   \n",
            "1    Sarah         HR   50000                   3                 3.8   \n",
            "4      Tom         HR   48000                   2                 3.5   \n",
            "\n",
            "   Increment  New Salary  \n",
            "2     7500.0     82500.0  \n",
            "3     6500.0     71500.0  \n",
            "0     6000.0     66000.0  \n",
            "1     2500.0     52500.0  \n",
            "4     2400.0     50400.0  \n"
          ]
        }
      ]
    },
    {
      "cell_type": "code",
      "source": [
        "import pandas as pd\n",
        "# Creating the DataFrame\n",
        "data = {\n",
        "    \"City\": [\"New York\", \"Los Angeles\", \"Chicago\", \"Houston\", \"Miami\"],\n",
        "    \"Total Cases\": [100000, 85000, 65000, 70000, 55000],\n",
        "    \"Recovered\": [75000, 70000, 50000, 60000, 45000],\n",
        "    \"Deaths\": [5000, 3500, 2500, 2000, 1500]\n",
        "}\n",
        "df = pd.DataFrame(data)"
      ],
      "metadata": {
        "id": "4nojBGcRwhcQ"
      },
      "execution_count": 8,
      "outputs": []
    },
    {
      "cell_type": "code",
      "source": [
        "# Calculating the recovery rate\n",
        "df[\"Recovery Rate (%)\"] = (df[\"Recovered\"] / df[\"Total Cases\"]) * 100\n",
        "# Displaying the DataFrame\n",
        "print(df)"
      ],
      "metadata": {
        "colab": {
          "base_uri": "https://localhost:8080/"
        },
        "id": "Hc_Uneq_wm5u",
        "outputId": "ce816709-5247-445b-f6cc-b8c174a73110"
      },
      "execution_count": 9,
      "outputs": [
        {
          "output_type": "stream",
          "name": "stdout",
          "text": [
            "          City  Total Cases  Recovered  Deaths  Recovery Rate (%)\n",
            "0     New York       100000      75000    5000          75.000000\n",
            "1  Los Angeles        85000      70000    3500          82.352941\n",
            "2      Chicago        65000      50000    2500          76.923077\n",
            "3      Houston        70000      60000    2000          85.714286\n",
            "4        Miami        55000      45000    1500          81.818182\n"
          ]
        }
      ]
    },
    {
      "cell_type": "code",
      "source": [
        "# Calculate Recovery Rate\n",
        "df[\"Recovery Rate (%)\"] = (df[\"Recovered\"] / df[\"Total Cases\"]) * 100\n"
      ],
      "metadata": {
        "id": "JrwzhlvzxqcE"
      },
      "execution_count": 10,
      "outputs": []
    },
    {
      "cell_type": "code",
      "source": [
        "# Calculate Death Rate\n",
        "df[\"Death Rate (%)\"] = (df[\"Deaths\"] / df[\"Total Cases\"]) * 100"
      ],
      "metadata": {
        "id": "U_Shjw0fxtsl"
      },
      "execution_count": 11,
      "outputs": []
    },
    {
      "cell_type": "code",
      "source": [
        "# Identify cities with death rate higher than 5%\n",
        "high_death_rate_cities = df[df[\"Death Rate (%)\"] > 5]"
      ],
      "metadata": {
        "id": "JRJYfdHBxxee"
      },
      "execution_count": 12,
      "outputs": []
    },
    {
      "cell_type": "code",
      "source": [
        "# Sort cities by highest recovery rate\n",
        "df_sorted = df.sort_values(by=\"Recovery Rate (%)\", ascending=False)"
      ],
      "metadata": {
        "id": "m4JwGZV0x3Ix"
      },
      "execution_count": 13,
      "outputs": []
    },
    {
      "cell_type": "code",
      "source": [
        "# Find total cases and deaths across all cities\n",
        "total_cases = df[\"Total Cases\"].sum()\n",
        "total_deaths = df[\"Deaths\"].sum()"
      ],
      "metadata": {
        "id": "Y2e6Jt9Nx7Dc"
      },
      "execution_count": 14,
      "outputs": []
    },
    {
      "cell_type": "code",
      "source": [
        "# Display results\n",
        "print(\"DataFrame with Recovery and Death Rates:\")\n",
        "print(df)\n",
        "print(\"\\nCities with Death Rate > 5%:\")\n",
        "print(high_death_rate_cities)\n",
        "print(\"\\nCities Sorted by Highest Recovery Rate:\")\n",
        "print(df_sorted)\n",
        "print(f\"\\nTotal Cases Across All Cities: {total_cases}\")\n",
        "print(f\"Total Deaths Across All Cities: {total_deaths}\")"
      ],
      "metadata": {
        "colab": {
          "base_uri": "https://localhost:8080/"
        },
        "id": "ltPrRmwfyAfg",
        "outputId": "3b80773b-e881-4bfb-b830-ed85f0d1633b"
      },
      "execution_count": 15,
      "outputs": [
        {
          "output_type": "stream",
          "name": "stdout",
          "text": [
            "DataFrame with Recovery and Death Rates:\n",
            "          City  Total Cases  Recovered  Deaths  Recovery Rate (%)  \\\n",
            "0     New York       100000      75000    5000          75.000000   \n",
            "1  Los Angeles        85000      70000    3500          82.352941   \n",
            "2      Chicago        65000      50000    2500          76.923077   \n",
            "3      Houston        70000      60000    2000          85.714286   \n",
            "4        Miami        55000      45000    1500          81.818182   \n",
            "\n",
            "   Death Rate (%)  \n",
            "0        5.000000  \n",
            "1        4.117647  \n",
            "2        3.846154  \n",
            "3        2.857143  \n",
            "4        2.727273  \n",
            "\n",
            "Cities with Death Rate > 5%:\n",
            "Empty DataFrame\n",
            "Columns: [City, Total Cases, Recovered, Deaths, Recovery Rate (%), Death Rate (%)]\n",
            "Index: []\n",
            "\n",
            "Cities Sorted by Highest Recovery Rate:\n",
            "          City  Total Cases  Recovered  Deaths  Recovery Rate (%)  \\\n",
            "3      Houston        70000      60000    2000          85.714286   \n",
            "1  Los Angeles        85000      70000    3500          82.352941   \n",
            "4        Miami        55000      45000    1500          81.818182   \n",
            "2      Chicago        65000      50000    2500          76.923077   \n",
            "0     New York       100000      75000    5000          75.000000   \n",
            "\n",
            "   Death Rate (%)  \n",
            "3        2.857143  \n",
            "1        4.117647  \n",
            "4        2.727273  \n",
            "2        3.846154  \n",
            "0        5.000000  \n",
            "\n",
            "Total Cases Across All Cities: 375000\n",
            "Total Deaths Across All Cities: 14500\n"
          ]
        }
      ]
    }
  ]
}